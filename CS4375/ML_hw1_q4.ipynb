{
  "nbformat": 4,
  "nbformat_minor": 0,
  "metadata": {
    "colab": {
      "provenance": []
    },
    "kernelspec": {
      "name": "python3",
      "display_name": "Python 3"
    },
    "language_info": {
      "name": "python"
    }
  },
  "cells": [
    {
      "cell_type": "markdown",
      "source": [
        "4.Implement Linear Regression from Scratch (5 Points): Implement a Linear Regression from scratch. Implement two loss functions (i) the mean squared loss (MSE) and (ii) the mean absolute error (MAE)loss. The MSE Loss is Li(w, b) = [f (w, b, xi) − yi]2 and the MAE Loss is Li(w, b) = |f (w, b, xi) − yi|.\n",
        "\n",
        "Implement a very simple gradient descent algorithm in python. Test your implementation on the house price prediction dataset from the demo on Linear Regression - https://colab.research.google.com/drive/1myH2V4xbKXZzdF-49ma_vWHLfArTyO2W#scrollTo=XVmWAIEIUsdF.\n",
        "\n",
        "Finally, compare your solution to the solution obtained by sklearn (from the demo) and comment on it briefly. You do not need to consider the more complicated quadratic case. Just the simple linear\n",
        "regression on the features is enough for this.\n",
        "\n",
        "You can use sklearn to load the dataset and do the splits but not do anything more (e.g., form the loss function, optimize it, or directly call linear regression from sklearn – you will be comparing to it\n",
        "but you should compare your implementation to sklearn’s implementation."
      ],
      "metadata": {
        "id": "p2DmCYWhJLeV"
      }
    },
    {
      "cell_type": "code",
      "execution_count": null,
      "metadata": {
        "id": "E65hOBqsibAs"
      },
      "outputs": [],
      "source": [
        "import pandas as pd\n",
        "import numpy as np\n",
        "from sklearn.model_selection import train_test_split\n",
        "from sklearn.linear_model import LinearRegression"
      ]
    },
    {
      "cell_type": "code",
      "source": [
        "# My linear regression implementation\n",
        "class simple_linear_regression(object):\n",
        "    def __init__(self, learning_rate, epochs):\n",
        "        self.learning_rate = learning_rate\n",
        "        self.epochs = epochs\n",
        "        self.w = None\n",
        "        self.b = None\n",
        "\n",
        "    # My fit implementation\n",
        "    def fit(self, x_train, y_train):\n",
        "      self.w = np.random.randn(X_train.shape[1])\n",
        "      self.b = np.random.randn()\n",
        "      for i in range(self.epochs):\n",
        "        y_pred = np.dot(x_train, self.w) + self.b # 404,13 ; 13,1 = 404,1\n",
        "        loss = mse(y_train, y_pred)\n",
        "        self.w -= self.learning_rate * 2 * np.dot(x_train.T, (y_pred - y_train)) / x_train.shape[0] # 13,404; 404,1\n",
        "        self.b -= self.learning_rate * 2 * np.sum(y_pred - y_train) / x_train.shape[0]\n",
        "\n",
        "    def predict(self, x):\n",
        "      return np.dot(x, self.w) + self.b\n",
        "\n",
        "def mse(y_true, y_pred): # Mean squared error\n",
        "  return np.mean((y_true - y_pred)**2)\n",
        "\n",
        "def mae(y_true, y_pred): # Mean absolute error\n",
        "  return np.mean(np.abs(y_true - y_pred))\n"
      ],
      "metadata": {
        "id": "zkWI6ZvJm_vC"
      },
      "execution_count": null,
      "outputs": []
    },
    {
      "cell_type": "code",
      "source": [
        "# Copied from professor's code\n",
        "class BostonHousingDataset:\n",
        "    def __init__(self):\n",
        "        self.url = \"http://lib.stat.cmu.edu/datasets/boston\"\n",
        "        self.feature_names = [\"CRIM\", \"ZN\", \"INDUS\", \"CHAS\", \"NOX\", \"RM\", \"AGE\", \"DIS\", \"RAD\", \"TAX\", \"PTRATIO\", \"B\", \"LSTAT\"]\n",
        "\n",
        "    def load_dataset(self):\n",
        "        # Fetch data from URL\n",
        "        raw_df = pd.read_csv(self.url, sep=\"\\s+\", skiprows=22, header=None)\n",
        "        data = np.hstack([raw_df.values[::2, :], raw_df.values[1::2, :2]])\n",
        "        target = raw_df.values[1::2, 2]\n",
        "\n",
        "        # Create the dictionary in sklearn format\n",
        "        dataset = {\n",
        "            'data': [],\n",
        "            'target': [],\n",
        "            'feature_names': self.feature_names,\n",
        "            'DESCR': 'Boston House Prices dataset'\n",
        "        }\n",
        "\n",
        "        dataset['data'] = data\n",
        "        dataset['target'] = target\n",
        "\n",
        "        return dataset"
      ],
      "metadata": {
        "id": "vUx0ekiojT7P"
      },
      "execution_count": null,
      "outputs": []
    },
    {
      "cell_type": "code",
      "source": [
        "# Copied from professor's code\n",
        "# Load the Boston Housing Dataset from sklearn\n",
        "boston_housing = BostonHousingDataset()\n",
        "boston_dataset = boston_housing.load_dataset()\n"
      ],
      "metadata": {
        "id": "VxKBRc_ZkF1Z"
      },
      "execution_count": null,
      "outputs": []
    },
    {
      "cell_type": "code",
      "source": [
        "# Copied from professor's code\n",
        "# Create the dataset\n",
        "boston = pd.DataFrame(boston_dataset['data'], columns=boston_dataset['feature_names'])\n",
        "boston['MEDV'] = boston_dataset['target']"
      ],
      "metadata": {
        "id": "hpfwGOp1lJ82"
      },
      "execution_count": null,
      "outputs": []
    },
    {
      "cell_type": "code",
      "source": [
        "# Copied from professor's code\n",
        "X = boston.to_numpy()\n",
        "X = np.delete(X, 13, 1)\n",
        "y = boston['MEDV'].to_numpy()\n",
        "X_train, X_test, y_train, y_test = train_test_split(X, y, test_size = 0.2, random_state=5)"
      ],
      "metadata": {
        "id": "wDLMPl_vki9T"
      },
      "execution_count": null,
      "outputs": []
    },
    {
      "cell_type": "code",
      "source": [
        "my_linear_regression = simple_linear_regression(0.000003, 1000000) # first argument is learning rate, second is number of epochs\n",
        "lin_reg = LinearRegression()\n",
        "\n",
        "# Conditioning linear regression model\n",
        "lin_reg.fit(X_train, y_train)\n",
        "my_linear_regression.fit(X_train, y_train)\n",
        "\n",
        "# making predictions\n",
        "  # on training set\n",
        "sklearn_pred_train = lin_reg.predict(X_train)\n",
        "my_pred_train = my_linear_regression.predict(X_train)\n",
        "  # on testing set\n",
        "sklearn_pred_test = lin_reg.predict(X_test)\n",
        "my_pred_test = my_linear_regression.predict(X_test)\n",
        "\n",
        "# Printing results\n",
        "print(\"sklearn.Linear Regression on trained Data:\")\n",
        "print(\"MSE:\", mse(y_train, sklearn_pred_train), \"MAE:\", mae(y_train, sklearn_pred_train))\n",
        "print(\"my_linear_regression on trained Data:\")\n",
        "print(\"MSE:\", mse(y_train, my_pred_train), \"MAE:\", mae(y_train, my_pred_train))\n",
        "\n",
        "print(\"\\nsklearn.Linear Regression on test Data:\")\n",
        "print(\"MSE:\", mse(y_test, sklearn_pred_test), \"MAE:\", mae(y_test, sklearn_pred_test))\n",
        "print(\"my_linear_regression on test Data:\")\n",
        "print(\"MSE:\", mse(y_test, my_pred_test), \"MAE:\", mae(y_test, my_pred_test))\n",
        "\n"
      ],
      "metadata": {
        "id": "bayVsAZ290sG",
        "colab": {
          "base_uri": "https://localhost:8080/"
        },
        "outputId": "f12322a7-f403-4bc9-fcb9-efaba830fe63"
      },
      "execution_count": null,
      "outputs": [
        {
          "output_type": "stream",
          "name": "stdout",
          "text": [
            "sklearn.Linear Regression on trained Data:\n",
            "MSE: 22.477090408387625 MAE: 3.3500095196484483\n",
            "my_linear_regression on trained Data:\n",
            "MSE: 24.909830928854173 MAE: 3.3575027899698524\n",
            "\n",
            "sklearn.Linear Regression on test Data:\n",
            "MSE: 20.86929218377085 MAE: 3.2132704958423806\n",
            "my_linear_regression on test Data:\n",
            "MSE: 22.79162339239032 MAE: 3.2377498610282482\n"
          ]
        }
      ]
    },
    {
      "cell_type": "markdown",
      "source": [
        "# Conclusion\n",
        "My linear regression implementation asks for number of iterations (epochs) and the learning rate.\n",
        "sklearn's linear regression does not ask for any of that.\n",
        "Comparing both implementations, my linear regression takes way longer and still does a little worse than sklearn implementation.\n",
        "\n",
        "For my implementation, I had to manually adjust the number of epochs and the learning rate to optimize my model while sklearn's implementation does it automatically."
      ],
      "metadata": {
        "id": "rEVDJs4WLfnL"
      }
    }
  ]
}